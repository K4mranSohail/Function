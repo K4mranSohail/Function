{
  "nbformat": 4,
  "nbformat_minor": 0,
  "metadata": {
    "colab": {
      "provenance": []
    },
    "kernelspec": {
      "name": "python3",
      "display_name": "Python 3"
    },
    "language_info": {
      "name": "python"
    }
  },
  "cells": [
    {
      "cell_type": "markdown",
      "source": [
        "## Theory Questions:"
      ],
      "metadata": {
        "id": "I0hE2UI6UqtU"
      }
    },
    {
      "cell_type": "markdown",
      "source": [
        "Q1. What is the difference between a function and a method in Python?\n",
        "  - In Python, a function is a reusable block of code that performs a specific task and can be called independently. It is defined using the def keyword and does not belong to any class. Functions do not require an instance to be executed. On the other hand, a method is a function that is associated with an object and is defined within a class. It operates on an instance of the class and usually takes self as its first parameter, which refers to the instance calling the method. While functions can be called directly, methods must be called on an instance of a class.\n",
        "  "
      ],
      "metadata": {
        "id": "Vk7vhGcoU2Qi"
      }
    },
    {
      "cell_type": "code",
      "source": [
        "# example of Function:\n",
        "\n",
        "def greet(name):\n",
        "    return f\"Hello, {name}!\"\n",
        "\n",
        "print(greet(\"Kamran\"))  # Calling a function\n"
      ],
      "metadata": {
        "colab": {
          "base_uri": "https://localhost:8080/"
        },
        "id": "CWpH1IJrVkjQ",
        "outputId": "17000edf-57e0-4eea-f0c5-af4fff124b52"
      },
      "execution_count": null,
      "outputs": [
        {
          "output_type": "stream",
          "name": "stdout",
          "text": [
            "Hello, Kamran!\n"
          ]
        }
      ]
    },
    {
      "cell_type": "code",
      "source": [
        "# example of method:\n",
        "\n",
        "class Person:\n",
        "    def __init__(self, name):\n",
        "        self.name = name\n",
        "\n",
        "    def greet(self):\n",
        "        return f\"Hello, {self.name}!\"\n",
        "\n",
        "p = Person(\"Kamran\")\n",
        "print(p.greet())  # Calling a method on an object\n"
      ],
      "metadata": {
        "colab": {
          "base_uri": "https://localhost:8080/"
        },
        "id": "jAG0DjQSVz84",
        "outputId": "698da9b7-2fd4-4a2c-8305-87ed7e5a53ed"
      },
      "execution_count": null,
      "outputs": [
        {
          "output_type": "stream",
          "name": "stdout",
          "text": [
            "Hello, Kamran!\n"
          ]
        }
      ]
    },
    {
      "cell_type": "markdown",
      "source": [
        "Q2. Explain the concept of function arguments and parameters in Python.\n",
        "  - In Python, parameters are the variables listed in a function definition,\n",
        "  whereas arguments are the actual values passed to the function when calling it.\n",
        "  \n"
      ],
      "metadata": {
        "id": "k4036TuZWPJS"
      }
    },
    {
      "cell_type": "code",
      "source": [
        "# Example\n",
        "\n",
        "def introduce(name, age=20):\n",
        "    print(f\"My name is {name} and I am {age} years old.\")\n",
        "\n",
        "# Calling the function with different arguments\n",
        "introduce(\"Kamran\", 22)  # Positional arguments\n",
        "introduce(\"Sohail\")      # Default argument (age=20)\n",
        "introduce(age=25, name=\"Ali\")  # Keyword arguments\n"
      ],
      "metadata": {
        "colab": {
          "base_uri": "https://localhost:8080/"
        },
        "id": "OLsFZiFuWpxH",
        "outputId": "4f198f30-e0e7-45e0-ae49-784a09c097c6"
      },
      "execution_count": null,
      "outputs": [
        {
          "output_type": "stream",
          "name": "stdout",
          "text": [
            "My name is Kamran and I am 22 years old.\n",
            "My name is Sohail and I am 20 years old.\n",
            "My name is Ali and I am 25 years old.\n"
          ]
        }
      ]
    },
    {
      "cell_type": "markdown",
      "source": [
        "Q3. What are the different ways to define and call a function in Python?\n",
        "\n",
        "  - Python provides multiple ways to define and call functions, allowing flexibility in programming. Below are various methods:"
      ],
      "metadata": {
        "id": "GOs135NZWym0"
      }
    },
    {
      "cell_type": "code",
      "source": [
        "# 1. Normal Function Definition and Call\n",
        "   # A function is defined using the def keyword and called by using its name with parentheses.\n",
        "\n",
        "#Example\n",
        "\n",
        "def greet(name):\n",
        "    return f\"Hello, {name}!\"\n",
        "\n",
        "print(greet(\"Kamran\"))  # Calling the function\n",
        "\n",
        "\n"
      ],
      "metadata": {
        "colab": {
          "base_uri": "https://localhost:8080/"
        },
        "id": "GeOEiOoGXiwt",
        "outputId": "2911abc5-868c-4f1c-afbb-ec866d944dfe"
      },
      "execution_count": null,
      "outputs": [
        {
          "output_type": "stream",
          "name": "stdout",
          "text": [
            "Hello, Kamran!\n"
          ]
        }
      ]
    },
    {
      "cell_type": "code",
      "source": [
        "# 2. Function with Default Arguments\n",
        "     # Default values are assigned to parameters, making the argument optional.\n",
        "\n",
        "#Example\n",
        "\n",
        "def introduce(name, age=20):\n",
        "    print(f\"My name is {name} and I am {age} years old.\")\n",
        "\n",
        "introduce(\"Kamran\")  # Uses default age=20\n",
        "introduce(\"Sohail\", 22)  # Overwrites default\n"
      ],
      "metadata": {
        "colab": {
          "base_uri": "https://localhost:8080/"
        },
        "id": "R_D8p6MtXxEP",
        "outputId": "35d467ba-46dd-4c27-fabf-3816b4847c02"
      },
      "execution_count": null,
      "outputs": [
        {
          "output_type": "stream",
          "name": "stdout",
          "text": [
            "My name is Kamran and I am 20 years old.\n",
            "My name is Sohail and I am 22 years old.\n"
          ]
        }
      ]
    },
    {
      "cell_type": "code",
      "source": [
        "# 3. Function with Keyword Arguments\n",
        "    # Arguments are passed using parameter names, making the order flexible.\n",
        "\n",
        "# Example\n",
        "\n",
        "def describe(person, country):\n",
        "    print(f\"{person} is from {country}.\")\n",
        "\n",
        "describe(country=\"India\", person=\"Kamran\")  # Keyword arguments\n"
      ],
      "metadata": {
        "colab": {
          "base_uri": "https://localhost:8080/"
        },
        "id": "4CDhCFvyX-zA",
        "outputId": "31e43614-88f1-4bb4-f45a-43705ff235dc"
      },
      "execution_count": null,
      "outputs": [
        {
          "output_type": "stream",
          "name": "stdout",
          "text": [
            "Kamran is from India.\n"
          ]
        }
      ]
    },
    {
      "cell_type": "code",
      "source": [
        "# 4. Recursive Function\n",
        "    # A function calling itself for solving problems like factorial, Fibonacci, etc.\n",
        "\n",
        "#Example\n",
        "\n",
        "def factorial(n):\n",
        "    return 1 if n == 0 else n * factorial(n - 1)\n",
        "\n",
        "print(factorial(5))  # Calling recursive function\n"
      ],
      "metadata": {
        "colab": {
          "base_uri": "https://localhost:8080/"
        },
        "id": "KTTPOEFkYOyZ",
        "outputId": "c6419b5f-36a2-4aee-9bf6-541387a2a369"
      },
      "execution_count": null,
      "outputs": [
        {
          "output_type": "stream",
          "name": "stdout",
          "text": [
            "120\n"
          ]
        }
      ]
    },
    {
      "cell_type": "markdown",
      "source": [
        "Q4. What is the purpose of the `return` statement in a Python function?\n",
        "\n",
        "  - The return statement in a Python function is used to send a value back to the caller. It allows the function to return a result instead of just executing a block of code. The return statement also terminates the function execution.\n",
        "\n"
      ],
      "metadata": {
        "id": "7ZG51v79YevP"
      }
    },
    {
      "cell_type": "code",
      "source": [
        "# Example\n",
        "\n",
        "def square(num):\n",
        "    return num * num\n",
        "\n",
        "result = square(5)\n",
        "print(result)\n"
      ],
      "metadata": {
        "colab": {
          "base_uri": "https://localhost:8080/"
        },
        "id": "qDZGF6GWY8wq",
        "outputId": "58af9edb-cd53-404c-9e47-b35ed3a6aaed"
      },
      "execution_count": null,
      "outputs": [
        {
          "output_type": "stream",
          "name": "stdout",
          "text": [
            "25\n"
          ]
        }
      ]
    },
    {
      "cell_type": "markdown",
      "source": [
        "Q.5 What are iterators in Python and how do they differ from iterables?\n",
        "  \n",
        "  - An iterator is an object that represents a stream of data and produces one element at a time when iterated over. It implements both __iter__() (returns the iterator itself) and __next__() (returns the next element in the sequence). When there are no more elements, it raises a StopIteration exception.\n",
        "  iterator is an object that produces elements one by one when iterated while\n",
        "  iterables is an object that contains multiple elements and can be looped over."
      ],
      "metadata": {
        "id": "DoBNdER4ZCyp"
      }
    },
    {
      "cell_type": "code",
      "source": [
        "# example\n",
        "\n",
        "# Iterable (list)\n",
        "numbers = [1, 2, 3, 4, 5]\n",
        "\n",
        "# Converting iterable into an iterator\n",
        "num_iterator = iter(numbers)\n",
        "\n",
        "# Using next() on an iterator\n",
        "print(next(num_iterator))  # Output: 1\n",
        "print(next(num_iterator))  # Output: 2\n"
      ],
      "metadata": {
        "colab": {
          "base_uri": "https://localhost:8080/"
        },
        "id": "d4oET9TSbE8Z",
        "outputId": "26c02b2a-d9d8-49c7-ec41-fb0e3c5cc17e"
      },
      "execution_count": null,
      "outputs": [
        {
          "output_type": "stream",
          "name": "stdout",
          "text": [
            "1\n",
            "2\n"
          ]
        }
      ]
    },
    {
      "cell_type": "markdown",
      "source": [
        "Q6. Explain the concept of generators in Python and how they are defined.\n",
        "  - Generators are defined like normal functions but use yield instead of return. Each time yield is encountered, the function pauses execution and remembers its state, allowing iteration to resume from where it left off."
      ],
      "metadata": {
        "id": "H0ZeiMvGbMs-"
      }
    },
    {
      "cell_type": "code",
      "source": [
        "# example\n",
        "\n",
        "def even_numbers(limit):\n",
        "    for num in range(2, limit + 1, 2):\n",
        "        yield num\n",
        "\n",
        "# Using a for loop to iterate over the generator\n",
        "for num in even_numbers(6):\n",
        "    print(num)\n"
      ],
      "metadata": {
        "colab": {
          "base_uri": "https://localhost:8080/"
        },
        "id": "VOZyU2c6blEM",
        "outputId": "3f4a15ee-dcee-4b8f-8385-89609172f729"
      },
      "execution_count": null,
      "outputs": [
        {
          "output_type": "stream",
          "name": "stdout",
          "text": [
            "2\n",
            "4\n",
            "6\n"
          ]
        }
      ]
    },
    {
      "cell_type": "markdown",
      "source": [
        "Q7.  What are the advantages of using generators over regular functions?\n",
        "\n",
        "  - Generators are faster, memory-efficient, and scalable, making them an excellent alternative to regular functions in data processing and computation-heavy tasks."
      ],
      "metadata": {
        "id": "hf8oBv53bs5-"
      }
    },
    {
      "cell_type": "markdown",
      "source": [
        "Q8. What is a lambda function in Python and when is it typically used?\n",
        "\n",
        "  - A lambda function in Python is a small, anonymous function defined using the lambda keyword. It can take any number of arguments but can only have one expression. Lambda functions are inline functions often used for short, simple operations without explicitly defining a function using def.\n",
        "\n"
      ],
      "metadata": {
        "id": "R8bisUL6cKF7"
      }
    },
    {
      "cell_type": "code",
      "source": [
        "# example\n",
        "\n",
        "square = lambda x: x * x\n",
        "print(square(5))\n"
      ],
      "metadata": {
        "colab": {
          "base_uri": "https://localhost:8080/"
        },
        "id": "QaeVeHAVcZNi",
        "outputId": "9589a3f2-d8ac-46dd-f772-3ba55d5377ca"
      },
      "execution_count": null,
      "outputs": [
        {
          "output_type": "stream",
          "name": "stdout",
          "text": [
            "25\n"
          ]
        }
      ]
    },
    {
      "cell_type": "markdown",
      "source": [
        "Q9. Explain the purpose and usage of the `map()` function in Python.\n",
        "\n",
        "  - The map() function in Python is used to apply a given function to all items in an iterable (like a list, tuple, or set) and return a new iterable (map object) with the transformed results. It is commonly used for functional programming when an operation needs to be applied to multiple elements efficiently."
      ],
      "metadata": {
        "id": "fD4TnLY8cg0A"
      }
    },
    {
      "cell_type": "code",
      "source": [
        "# example\n",
        "\n",
        "def square(n):\n",
        "    return n * n\n",
        "\n",
        "numbers = [1, 2, 3, 4, 5]\n",
        "squared_numbers = map(square, numbers)\n",
        "\n",
        "print(list(squared_numbers))"
      ],
      "metadata": {
        "colab": {
          "base_uri": "https://localhost:8080/"
        },
        "id": "3hFL6BWmcyT3",
        "outputId": "9cb1ae16-2eb5-4380-b6dd-686b704f3352"
      },
      "execution_count": null,
      "outputs": [
        {
          "output_type": "stream",
          "name": "stdout",
          "text": [
            "[1, 4, 9, 16, 25]\n"
          ]
        }
      ]
    },
    {
      "cell_type": "markdown",
      "source": [
        "Q10. What is the difference between `map()`, `reduce()`, and `filter()` functions in Python?\n",
        "\n",
        "  - The map(), filter(), and reduce() functions in Python are used for processing iterables but serve different purposes. map() applies a function to each element in an iterable and returns a transformed iterable, making it useful for modifications like squaring numbers. filter() selects elements that meet a condition and returns only those that satisfy the given criteria, such as filtering even numbers from a list. reduce(), from the functools module, applies a function cumulatively to reduce an iterable to a single value, like finding the sum or product of a list. While map() and filter() return iterables of the same or smaller size, reduce() always returns a single result."
      ],
      "metadata": {
        "id": "POF0wHWtc4AI"
      }
    },
    {
      "cell_type": "markdown",
      "source": [
        "![WhatsApp Image 2025-02-11 at 02.14.33_3fb2ea6a.jpg](data:image/jpeg;base64,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)"
      ],
      "metadata": {
        "id": "MRIH6za2nfOK"
      }
    },
    {
      "cell_type": "markdown",
      "source": [
        "# Practical Questions:"
      ],
      "metadata": {
        "id": "ptD-UFTYeFd0"
      }
    },
    {
      "cell_type": "code",
      "source": [
        "#  Write a Python function that takes a list of numbers as input and returns the sum of all even numbers in the list.\n",
        "\n",
        "def sum_of_even_numbers(numbers):\n",
        "    return sum(filter(lambda x: x % 2 == 0, numbers))\n",
        "\n",
        "numbers = [1, 2, 3, 4, 5, 6, 7, 8, 9, 10]\n",
        "result = sum_of_even_numbers(numbers)\n",
        "print(result)\n"
      ],
      "metadata": {
        "colab": {
          "base_uri": "https://localhost:8080/"
        },
        "id": "BSn15GABeJgE",
        "outputId": "cf4fa38c-7271-4196-901a-cbb95ba496f9"
      },
      "execution_count": null,
      "outputs": [
        {
          "output_type": "stream",
          "name": "stdout",
          "text": [
            "30\n"
          ]
        }
      ]
    },
    {
      "cell_type": "code",
      "source": [
        "#  Create a Python function that accepts a string and returns the reverse of that string.\n",
        "\n",
        "def reverse_string(s):\n",
        "    return s[::-1]  # Using slicing to reverse the string\n",
        "\n",
        "text = \"PWSKILLS\"\n",
        "result = reverse_string(text)\n",
        "print(result)\n"
      ],
      "metadata": {
        "colab": {
          "base_uri": "https://localhost:8080/"
        },
        "id": "eN70lUs6eetl",
        "outputId": "e3909c14-1e36-41b6-e8b5-d264c35a3132"
      },
      "execution_count": null,
      "outputs": [
        {
          "output_type": "stream",
          "name": "stdout",
          "text": [
            "SLLIKSWP\n"
          ]
        }
      ]
    },
    {
      "cell_type": "code",
      "source": [
        "#  Implement a Python function that takes a list of integers and returns a new list containing the squares of each number.\n",
        "\n",
        "def square_numbers(numbers):\n",
        "    return [x ** 2 for x in numbers]  # Using list comprehension\n",
        "\n",
        "# Example usage\n",
        "numbers = [1, 2, 3, 4, 5]\n",
        "result = square_numbers(numbers)\n",
        "print(result)\n"
      ],
      "metadata": {
        "colab": {
          "base_uri": "https://localhost:8080/"
        },
        "id": "7XRBaqCge3jc",
        "outputId": "0afa6f15-bb46-41fd-9d18-c3e7d81a54cc"
      },
      "execution_count": null,
      "outputs": [
        {
          "output_type": "stream",
          "name": "stdout",
          "text": [
            "[1, 4, 9, 16, 25]\n"
          ]
        }
      ]
    },
    {
      "cell_type": "code",
      "source": [
        "#  Write a Python function that checks if a given number is prime or not from 1 to 200.\n",
        "\n",
        "def is_prime(n):\n",
        "    if n < 2:\n",
        "        return False\n",
        "    for i in range(2, int(n ** 0.5) + 1):  # Check divisibility up to sqrt(n)\n",
        "        if n % i == 0:\n",
        "            return False\n",
        "    return True\n",
        "\n",
        "# Finding all prime numbers from 1 to 200\n",
        "prime_numbers = [num for num in range(1, 201) if is_prime(num)]\n",
        "print(prime_numbers)\n"
      ],
      "metadata": {
        "colab": {
          "base_uri": "https://localhost:8080/"
        },
        "id": "NZtMpiQIfFY5",
        "outputId": "d6359a11-388c-4a9a-f562-f9b773cb007d"
      },
      "execution_count": null,
      "outputs": [
        {
          "output_type": "stream",
          "name": "stdout",
          "text": [
            "[2, 3, 5, 7, 11, 13, 17, 19, 23, 29, 31, 37, 41, 43, 47, 53, 59, 61, 67, 71, 73, 79, 83, 89, 97, 101, 103, 107, 109, 113, 127, 131, 137, 139, 149, 151, 157, 163, 167, 173, 179, 181, 191, 193, 197, 199]\n"
          ]
        }
      ]
    },
    {
      "cell_type": "code",
      "source": [
        "# Create an iterator class in Python that generates the Fibonacci sequence up to a specified number of terms.\n",
        "\n",
        "class FibonacciIterator:\n",
        "    def __init__(self, n):\n",
        "        self.n = n  # Number of terms\n",
        "        self.a, self.b = 0, 1  # First two Fibonacci numbers\n",
        "        self.count = 0  # Counter to track iterations\n",
        "\n",
        "    def __iter__(self):\n",
        "        return self  # Returns the iterator object itself\n",
        "\n",
        "    def __next__(self):\n",
        "        if self.count >= self.n:  # Stop iteration after 'n' terms\n",
        "            raise StopIteration\n",
        "        fib_number = self.a  # Store the current Fibonacci number\n",
        "        self.a, self.b = self.b, self.a + self.b  # Update values\n",
        "        self.count += 1  # Increment count\n",
        "        return fib_number  # Return the Fibonacci number\n",
        "\n",
        "# Example usage\n",
        "fib_iter = FibonacciIterator(10)  # Generate first 10 Fibonacci numbers\n",
        "for num in fib_iter:\n",
        "    print(num, end=\" \")\n"
      ],
      "metadata": {
        "colab": {
          "base_uri": "https://localhost:8080/"
        },
        "id": "939o24bEfWLX",
        "outputId": "2826ecab-fe0f-4643-c6de-930270d3287b"
      },
      "execution_count": null,
      "outputs": [
        {
          "output_type": "stream",
          "name": "stdout",
          "text": [
            "0 1 1 2 3 5 8 13 21 34 "
          ]
        }
      ]
    },
    {
      "cell_type": "code",
      "source": [
        "# Write a generator function in Python that yields the powers of 2 up to a given exponent.\n",
        "\n",
        "def powers_of_two(exponent):\n",
        "    for i in range(exponent + 1):\n",
        "        yield 2 ** i  # Generate powers of 2\n",
        "\n",
        "# Example usage\n",
        "for num in powers_of_two(5):\n",
        "    print(num, end=\" \")\n"
      ],
      "metadata": {
        "colab": {
          "base_uri": "https://localhost:8080/"
        },
        "id": "r3UVFvudfolI",
        "outputId": "497a281c-f6d4-4d86-8f76-05175cd4e8be"
      },
      "execution_count": null,
      "outputs": [
        {
          "output_type": "stream",
          "name": "stdout",
          "text": [
            "1 2 4 8 16 32 "
          ]
        }
      ]
    },
    {
      "cell_type": "code",
      "source": [
        "#  Implement a generator function that reads a file line by line and yields each line as a string.\n",
        "\n",
        "def read_file(file_path):\n",
        "    with open(file_path, \"r\") as file:\n",
        "        for line in file:\n",
        "            yield line.strip()  # Remove trailing newline characters\n",
        "\n",
        "# Example usage\n",
        "file_path = \"example.txt\"  # Make sure this file exists\n",
        "for line in read_file(file_path):\n",
        "    print(line)\n"
      ],
      "metadata": {
        "id": "UJ8bPlH3hTC6"
      },
      "execution_count": null,
      "outputs": []
    },
    {
      "cell_type": "code",
      "source": [
        "#  Use a lambda function in Python to sort a list of tuples based on the second element of each tuple.\n",
        "\n",
        "# List of tuples\n",
        "data = [(1, 5), (3, 2), (4, 8), (2, 1)]\n",
        "\n",
        "# Sorting based on the second element of each tuple\n",
        "sorted_data = sorted(data, key=lambda x: x[1])\n",
        "\n",
        "print(sorted_data)\n",
        "\n",
        "\n"
      ],
      "metadata": {
        "colab": {
          "base_uri": "https://localhost:8080/"
        },
        "id": "X9f2x1ngi-Kf",
        "outputId": "52d545d5-1072-4465-c795-1faad4d9e048"
      },
      "execution_count": null,
      "outputs": [
        {
          "output_type": "stream",
          "name": "stdout",
          "text": [
            "[(2, 1), (3, 2), (1, 5), (4, 8)]\n"
          ]
        }
      ]
    },
    {
      "cell_type": "code",
      "source": [
        "# Write a Python program that uses `map()` to convert a list of temperatures from Celsius to Fahrenheit\n",
        "\n",
        "# Function to convert Celsius to Fahrenheit\n",
        "def celsius_to_fahrenheit(celsius):\n",
        "    return (celsius * 9/5) + 32\n",
        "\n",
        "# List of temperatures in Celsius\n",
        "celsius_temps = [0, 10, 20, 30, 40, 100]\n",
        "\n",
        "# Convert using map()\n",
        "fahrenheit_temps = list(map(celsius_to_fahrenheit, celsius_temps))\n",
        "\n",
        "print(fahrenheit_temps)\n"
      ],
      "metadata": {
        "colab": {
          "base_uri": "https://localhost:8080/"
        },
        "id": "reA9NU3VjSKp",
        "outputId": "0303a6af-64e5-4fd1-a58f-16d73b59e083"
      },
      "execution_count": null,
      "outputs": [
        {
          "output_type": "stream",
          "name": "stdout",
          "text": [
            "[32.0, 50.0, 68.0, 86.0, 104.0, 212.0]\n"
          ]
        }
      ]
    },
    {
      "cell_type": "code",
      "source": [
        "#  Create a Python program that uses `filter()` to remove all the vowels from a given string.\n",
        "\n",
        "def remove_vowels(s):\n",
        "    vowels = \"aeiouAEIOU\"\n",
        "    return \"\".join(filter(lambda char: char not in vowels, s))\n",
        "\n",
        "# Example usage\n",
        "text = \"Hello, this is a Python program!\"\n",
        "result = remove_vowels(text)\n",
        "print(result)\n"
      ],
      "metadata": {
        "colab": {
          "base_uri": "https://localhost:8080/"
        },
        "id": "QviqZWugjf8x",
        "outputId": "8d7bf3ed-7f52-49c0-c933-bb92ae10f943"
      },
      "execution_count": null,
      "outputs": [
        {
          "output_type": "stream",
          "name": "stdout",
          "text": [
            "Hll, ths s  Pythn prgrm!\n"
          ]
        }
      ]
    },
    {
      "cell_type": "code",
      "source": [
        "#Write a Python program, which returns a list with 2-tuples. Each tuple consists of the order number and the\n",
        "# product of the price per item and the quantity. The product should be increased by 10,- € if the value of the\n",
        "# order is smaller than 100,00 €.\n",
        "\n",
        "# Write a Python program using lambda and map.\n",
        "\n",
        "# Given data: List of orders (Order Number, Book Title & Author, Quantity, Price per Item)\n",
        "orders = [\n",
        "    (34587, \"Learning Python, Mark Lutz\", 4, 40.95),\n",
        "    (98762, \"Programming Python, Mark Lutz\", 5, 56.80),\n",
        "    (77226, \"Head First Python, Paul Barry\", 3, 32.95),\n",
        "    (88112, \"Einführung in Python3, Bernd Klein\", 3, 24.99)\n",
        "]\n",
        "\n",
        "# Using map and lambda to calculate order total with conditions\n",
        "order_totals = list(map(lambda x: (x[0], x[2] * x[3] + (10 if x[2] * x[3] < 100 else 0)), orders))\n",
        "\n",
        "# Output the result\n",
        "print(order_totals)\n"
      ],
      "metadata": {
        "colab": {
          "base_uri": "https://localhost:8080/"
        },
        "id": "YPio1unKlBIw",
        "outputId": "8392e3e7-f514-4ecd-c4a9-19e4b6bd7f99"
      },
      "execution_count": null,
      "outputs": [
        {
          "output_type": "stream",
          "name": "stdout",
          "text": [
            "[(34587, 163.8), (98762, 284.0), (77226, 108.85000000000001), (88112, 84.97)]\n"
          ]
        }
      ]
    }
  ]
}